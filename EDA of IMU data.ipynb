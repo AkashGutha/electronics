{
 "cells": [
  {
   "cell_type": "markdown",
   "metadata": {
    "nbpresent": {
     "id": "bcdfc8f4-b3aa-43f7-bc4e-5ae3f63df185"
    }
   },
   "source": [
    "# EDA of IMU data"
   ]
  },
  {
   "cell_type": "code",
   "execution_count": 1,
   "metadata": {
    "collapsed": false,
    "nbpresent": {
     "id": "3cc682d2-a620-4089-88bb-348c8919a5e6"
    }
   },
   "outputs": [],
   "source": [
    "import numpy as np\n",
    "import pandas as pd\n",
    "import matplotlib as mp\n",
    "import matplotlib.pyplot as plot\n",
    "%matplotlib inline"
   ]
  },
  {
   "cell_type": "code",
   "execution_count": 2,
   "metadata": {
    "collapsed": true,
    "nbpresent": {
     "id": "27460bf9-0a3b-428a-8f4e-609ea1b6d790"
    }
   },
   "outputs": [],
   "source": [
    "data = pd.read_csv(\"IMU_data.csv\")"
   ]
  },
  {
   "cell_type": "code",
   "execution_count": 3,
   "metadata": {
    "collapsed": false,
    "nbpresent": {
     "id": "627e4ceb-c849-4846-9f86-0382d857b927"
    }
   },
   "outputs": [
    {
     "data": {
      "text/html": [
       "<div>\n",
       "<table border=\"1\" class=\"dataframe\">\n",
       "  <thead>\n",
       "    <tr style=\"text-align: right;\">\n",
       "      <th></th>\n",
       "      <th>AccX</th>\n",
       "      <th>AccY</th>\n",
       "      <th>AccZ</th>\n",
       "      <th>Tmp</th>\n",
       "      <th>GyroX</th>\n",
       "      <th>GyroY</th>\n",
       "      <th>GyroZ</th>\n",
       "    </tr>\n",
       "  </thead>\n",
       "  <tbody>\n",
       "    <tr>\n",
       "      <th>0</th>\n",
       "      <td>-7176</td>\n",
       "      <td>6532</td>\n",
       "      <td>12192</td>\n",
       "      <td>32.77</td>\n",
       "      <td>-474</td>\n",
       "      <td>-58</td>\n",
       "      <td>22</td>\n",
       "    </tr>\n",
       "    <tr>\n",
       "      <th>1</th>\n",
       "      <td>-7180</td>\n",
       "      <td>6424</td>\n",
       "      <td>12308</td>\n",
       "      <td>32.72</td>\n",
       "      <td>-452</td>\n",
       "      <td>-103</td>\n",
       "      <td>44</td>\n",
       "    </tr>\n",
       "    <tr>\n",
       "      <th>2</th>\n",
       "      <td>-7096</td>\n",
       "      <td>6312</td>\n",
       "      <td>12172</td>\n",
       "      <td>32.72</td>\n",
       "      <td>158</td>\n",
       "      <td>-53</td>\n",
       "      <td>-75</td>\n",
       "    </tr>\n",
       "    <tr>\n",
       "      <th>3</th>\n",
       "      <td>-7256</td>\n",
       "      <td>6500</td>\n",
       "      <td>12108</td>\n",
       "      <td>32.67</td>\n",
       "      <td>-241</td>\n",
       "      <td>-159</td>\n",
       "      <td>21</td>\n",
       "    </tr>\n",
       "    <tr>\n",
       "      <th>4</th>\n",
       "      <td>-7288</td>\n",
       "      <td>6460</td>\n",
       "      <td>12368</td>\n",
       "      <td>32.67</td>\n",
       "      <td>-433</td>\n",
       "      <td>-59</td>\n",
       "      <td>15</td>\n",
       "    </tr>\n",
       "  </tbody>\n",
       "</table>\n",
       "</div>"
      ],
      "text/plain": [
       "   AccX  AccY   AccZ    Tmp  GyroX  GyroY  GyroZ\n",
       "0 -7176  6532  12192  32.77   -474    -58     22\n",
       "1 -7180  6424  12308  32.72   -452   -103     44\n",
       "2 -7096  6312  12172  32.72    158    -53    -75\n",
       "3 -7256  6500  12108  32.67   -241   -159     21\n",
       "4 -7288  6460  12368  32.67   -433    -59     15"
      ]
     },
     "execution_count": 3,
     "metadata": {},
     "output_type": "execute_result"
    }
   ],
   "source": [
    "data.head()"
   ]
  },
  {
   "cell_type": "code",
   "execution_count": 4,
   "metadata": {
    "collapsed": true,
    "nbpresent": {
     "id": "e42c8469-2dc0-4b15-8d4e-63381e672e08"
    }
   },
   "outputs": [],
   "source": [
    "del data[\"Tmp\"]"
   ]
  },
  {
   "cell_type": "code",
   "execution_count": 5,
   "metadata": {
    "collapsed": false,
    "nbpresent": {
     "id": "3f826cfe-bd9e-4cb5-8bc0-4950b60046f8"
    }
   },
   "outputs": [
    {
     "data": {
      "text/html": [
       "<div>\n",
       "<table border=\"1\" class=\"dataframe\">\n",
       "  <thead>\n",
       "    <tr style=\"text-align: right;\">\n",
       "      <th></th>\n",
       "      <th>AccX</th>\n",
       "      <th>AccY</th>\n",
       "      <th>AccZ</th>\n",
       "      <th>GyroX</th>\n",
       "      <th>GyroY</th>\n",
       "      <th>GyroZ</th>\n",
       "    </tr>\n",
       "  </thead>\n",
       "  <tbody>\n",
       "    <tr>\n",
       "      <th>0</th>\n",
       "      <td>-7176</td>\n",
       "      <td>6532</td>\n",
       "      <td>12192</td>\n",
       "      <td>-474</td>\n",
       "      <td>-58</td>\n",
       "      <td>22</td>\n",
       "    </tr>\n",
       "    <tr>\n",
       "      <th>1</th>\n",
       "      <td>-7180</td>\n",
       "      <td>6424</td>\n",
       "      <td>12308</td>\n",
       "      <td>-452</td>\n",
       "      <td>-103</td>\n",
       "      <td>44</td>\n",
       "    </tr>\n",
       "    <tr>\n",
       "      <th>2</th>\n",
       "      <td>-7096</td>\n",
       "      <td>6312</td>\n",
       "      <td>12172</td>\n",
       "      <td>158</td>\n",
       "      <td>-53</td>\n",
       "      <td>-75</td>\n",
       "    </tr>\n",
       "    <tr>\n",
       "      <th>3</th>\n",
       "      <td>-7256</td>\n",
       "      <td>6500</td>\n",
       "      <td>12108</td>\n",
       "      <td>-241</td>\n",
       "      <td>-159</td>\n",
       "      <td>21</td>\n",
       "    </tr>\n",
       "    <tr>\n",
       "      <th>4</th>\n",
       "      <td>-7288</td>\n",
       "      <td>6460</td>\n",
       "      <td>12368</td>\n",
       "      <td>-433</td>\n",
       "      <td>-59</td>\n",
       "      <td>15</td>\n",
       "    </tr>\n",
       "  </tbody>\n",
       "</table>\n",
       "</div>"
      ],
      "text/plain": [
       "   AccX  AccY   AccZ  GyroX  GyroY  GyroZ\n",
       "0 -7176  6532  12192   -474    -58     22\n",
       "1 -7180  6424  12308   -452   -103     44\n",
       "2 -7096  6312  12172    158    -53    -75\n",
       "3 -7256  6500  12108   -241   -159     21\n",
       "4 -7288  6460  12368   -433    -59     15"
      ]
     },
     "execution_count": 5,
     "metadata": {},
     "output_type": "execute_result"
    }
   ],
   "source": [
    "data.head()"
   ]
  },
  {
   "cell_type": "code",
   "execution_count": 6,
   "metadata": {
    "collapsed": false,
    "nbpresent": {
     "id": "8222c08a-7591-4827-b65a-232413d72410"
    }
   },
   "outputs": [
    {
     "data": {
      "text/html": [
       "<div>\n",
       "<table border=\"1\" class=\"dataframe\">\n",
       "  <thead>\n",
       "    <tr style=\"text-align: right;\">\n",
       "      <th></th>\n",
       "      <th>AccX</th>\n",
       "      <th>AccY</th>\n",
       "      <th>AccZ</th>\n",
       "      <th>GyroX</th>\n",
       "      <th>GyroY</th>\n",
       "      <th>GyroZ</th>\n",
       "    </tr>\n",
       "  </thead>\n",
       "  <tbody>\n",
       "    <tr>\n",
       "      <th>count</th>\n",
       "      <td>2464.000000</td>\n",
       "      <td>2464.000000</td>\n",
       "      <td>2464.000000</td>\n",
       "      <td>2464.000000</td>\n",
       "      <td>2464.000000</td>\n",
       "      <td>2464.000000</td>\n",
       "    </tr>\n",
       "    <tr>\n",
       "      <th>mean</th>\n",
       "      <td>-5383.750406</td>\n",
       "      <td>5192.027192</td>\n",
       "      <td>11340.717127</td>\n",
       "      <td>-540.316964</td>\n",
       "      <td>-156.325081</td>\n",
       "      <td>15.632305</td>\n",
       "    </tr>\n",
       "    <tr>\n",
       "      <th>std</th>\n",
       "      <td>4839.995999</td>\n",
       "      <td>5071.982393</td>\n",
       "      <td>5620.422172</td>\n",
       "      <td>9232.605541</td>\n",
       "      <td>8492.113905</td>\n",
       "      <td>5451.032719</td>\n",
       "    </tr>\n",
       "    <tr>\n",
       "      <th>min</th>\n",
       "      <td>-32768.000000</td>\n",
       "      <td>-32768.000000</td>\n",
       "      <td>-24176.000000</td>\n",
       "      <td>-32768.000000</td>\n",
       "      <td>-32768.000000</td>\n",
       "      <td>-32768.000000</td>\n",
       "    </tr>\n",
       "    <tr>\n",
       "      <th>25%</th>\n",
       "      <td>-7240.000000</td>\n",
       "      <td>6323.000000</td>\n",
       "      <td>12007.000000</td>\n",
       "      <td>-417.000000</td>\n",
       "      <td>-85.000000</td>\n",
       "      <td>-31.000000</td>\n",
       "    </tr>\n",
       "    <tr>\n",
       "      <th>50%</th>\n",
       "      <td>-7168.000000</td>\n",
       "      <td>6412.000000</td>\n",
       "      <td>12240.000000</td>\n",
       "      <td>-248.000000</td>\n",
       "      <td>-44.000000</td>\n",
       "      <td>-4.000000</td>\n",
       "    </tr>\n",
       "    <tr>\n",
       "      <th>75%</th>\n",
       "      <td>-7020.000000</td>\n",
       "      <td>6488.000000</td>\n",
       "      <td>12348.000000</td>\n",
       "      <td>-108.000000</td>\n",
       "      <td>-7.000000</td>\n",
       "      <td>23.000000</td>\n",
       "    </tr>\n",
       "    <tr>\n",
       "      <th>max</th>\n",
       "      <td>32767.000000</td>\n",
       "      <td>32767.000000</td>\n",
       "      <td>32767.000000</td>\n",
       "      <td>32767.000000</td>\n",
       "      <td>32767.000000</td>\n",
       "      <td>30229.000000</td>\n",
       "    </tr>\n",
       "  </tbody>\n",
       "</table>\n",
       "</div>"
      ],
      "text/plain": [
       "               AccX          AccY          AccZ         GyroX         GyroY  \\\n",
       "count   2464.000000   2464.000000   2464.000000   2464.000000   2464.000000   \n",
       "mean   -5383.750406   5192.027192  11340.717127   -540.316964   -156.325081   \n",
       "std     4839.995999   5071.982393   5620.422172   9232.605541   8492.113905   \n",
       "min   -32768.000000 -32768.000000 -24176.000000 -32768.000000 -32768.000000   \n",
       "25%    -7240.000000   6323.000000  12007.000000   -417.000000    -85.000000   \n",
       "50%    -7168.000000   6412.000000  12240.000000   -248.000000    -44.000000   \n",
       "75%    -7020.000000   6488.000000  12348.000000   -108.000000     -7.000000   \n",
       "max    32767.000000  32767.000000  32767.000000  32767.000000  32767.000000   \n",
       "\n",
       "              GyroZ  \n",
       "count   2464.000000  \n",
       "mean      15.632305  \n",
       "std     5451.032719  \n",
       "min   -32768.000000  \n",
       "25%      -31.000000  \n",
       "50%       -4.000000  \n",
       "75%       23.000000  \n",
       "max    30229.000000  "
      ]
     },
     "execution_count": 6,
     "metadata": {},
     "output_type": "execute_result"
    }
   ],
   "source": [
    "data.describe()"
   ]
  },
  {
   "cell_type": "code",
   "execution_count": 45,
   "metadata": {
    "collapsed": false,
    "nbpresent": {
     "id": "d55a5957-1ce7-4216-8469-5506fdcb9582"
    }
   },
   "outputs": [
    {
     "name": "stdout",
     "output_type": "stream",
     "text": [
      "-5383.7504058441555 5192.027191558442 11340.717126623376\n"
     ]
    }
   ],
   "source": [
    "# getting means of all the accleration values\n",
    "XMean = data[\"AccX\"].mean()\n",
    "YMean = data[\"AccY\"].mean()\n",
    "ZMean = data[\"AccZ\"].mean()\n",
    "\n",
    "print(XMean, YMean, ZMean)"
   ]
  },
  {
   "cell_type": "markdown",
   "metadata": {
    "nbpresent": {
     "id": "aa761dac-d5f1-4748-9fab-9ac3448b84f4"
    }
   },
   "source": [
    "# Plot accleration values"
   ]
  },
  {
   "cell_type": "code",
   "execution_count": 8,
   "metadata": {
    "collapsed": false,
    "nbpresent": {
     "id": "d6b77cab-25ab-4f8a-9f50-16bd89fbb32c"
    }
   },
   "outputs": [
    {
     "data": {
      "text/plain": [
       "[<matplotlib.lines.Line2D at 0x2474d2e6320>]"
      ]
     },
     "execution_count": 8,
     "metadata": {},
     "output_type": "execute_result"
    },
    {
     "data": {
      "image/png": "[encoded data removed]",
      "text/plain": [
       "<matplotlib.figure.Figure at 0x2474d268128>"
      ]
     },
     "metadata": {},
     "output_type": "display_data"
    }
   ],
   "source": [
    "plot.plot( data[\"AccX\"]-XMean)"
   ]
  },
  {
   "cell_type": "code",
   "execution_count": 9,
   "metadata": {
    "collapsed": false,
    "nbpresent": {
     "id": "2ce6a9e5-315d-4944-ad0e-c07aa36ae560"
    }
   },
   "outputs": [
    {
     "data": {
      "text/plain": [
       "[<matplotlib.lines.Line2D at 0x2474e34cf98>]"
      ]
     },
     "execution_count": 9,
     "metadata": {},
     "output_type": "execute_result"
    },
    {
     "data": {
      "image/png": "[encoded data removed]",
      "text/plain": [
       "<matplotlib.figure.Figure at 0x2474d2b7e48>"
      ]
     },
     "metadata": {},
     "output_type": "display_data"
    }
   ],
   "source": [
    "plot.plot( data[\"AccY\"]-YMean)"
   ]
  },
  {
   "cell_type": "code",
   "execution_count": 10,
   "metadata": {
    "collapsed": false,
    "nbpresent": {
     "id": "12059f60-f651-43da-8125-35459c7d9358"
    }
   },
   "outputs": [
    {
     "data": {
      "text/plain": [
       "[<matplotlib.lines.Line2D at 0x2474e3bd588>]"
      ]
     },
     "execution_count": 10,
     "metadata": {},
     "output_type": "execute_result"
    },
    {
     "data": {
      "image/png": "[encoded data removed]",
      "text/plain": [
       "<matplotlib.figure.Figure at 0x2474d35a390>"
      ]
     },
     "metadata": {},
     "output_type": "display_data"
    }
   ],
   "source": [
    "plot.plot( data[\"AccZ\"]-ZMean)"
   ]
  },
  {
   "cell_type": "markdown",
   "metadata": {},
   "source": [
    "# Get the offsets"
   ]
  },
  {
   "cell_type": "code",
   "execution_count": 40,
   "metadata": {
    "collapsed": false
   },
   "outputs": [
    {
     "data": {
      "text/html": [
       "<div>\n",
       "<table border=\"1\" class=\"dataframe\">\n",
       "  <thead>\n",
       "    <tr style=\"text-align: right;\">\n",
       "      <th></th>\n",
       "      <th>off_AccX</th>\n",
       "      <th>off_AccY</th>\n",
       "      <th>off_AccZ</th>\n",
       "      <th>off_GyX</th>\n",
       "      <th>off_GyY</th>\n",
       "      <th>off_GyZ</th>\n",
       "    </tr>\n",
       "  </thead>\n",
       "  <tbody>\n",
       "    <tr>\n",
       "      <th>0</th>\n",
       "      <td>1362</td>\n",
       "      <td>-2218</td>\n",
       "      <td>2014</td>\n",
       "      <td>61</td>\n",
       "      <td>12</td>\n",
       "      <td>2</td>\n",
       "    </tr>\n",
       "    <tr>\n",
       "      <th>1</th>\n",
       "      <td>1235</td>\n",
       "      <td>-2231</td>\n",
       "      <td>2009</td>\n",
       "      <td>61</td>\n",
       "      <td>12</td>\n",
       "      <td>1</td>\n",
       "    </tr>\n",
       "    <tr>\n",
       "      <th>2</th>\n",
       "      <td>1416</td>\n",
       "      <td>-2190</td>\n",
       "      <td>2017</td>\n",
       "      <td>61</td>\n",
       "      <td>12</td>\n",
       "      <td>2</td>\n",
       "    </tr>\n",
       "    <tr>\n",
       "      <th>3</th>\n",
       "      <td>1236</td>\n",
       "      <td>-2173</td>\n",
       "      <td>2019</td>\n",
       "      <td>61</td>\n",
       "      <td>14</td>\n",
       "      <td>17</td>\n",
       "    </tr>\n",
       "    <tr>\n",
       "      <th>4</th>\n",
       "      <td>1325</td>\n",
       "      <td>-2310</td>\n",
       "      <td>2015</td>\n",
       "      <td>61</td>\n",
       "      <td>13</td>\n",
       "      <td>7</td>\n",
       "    </tr>\n",
       "  </tbody>\n",
       "</table>\n",
       "</div>"
      ],
      "text/plain": [
       "   off_AccX  off_AccY  off_AccZ  off_GyX  off_GyY  off_GyZ\n",
       "0      1362     -2218      2014       61       12        2\n",
       "1      1235     -2231      2009       61       12        1\n",
       "2      1416     -2190      2017       61       12        2\n",
       "3      1236     -2173      2019       61       14       17\n",
       "4      1325     -2310      2015       61       13        7"
      ]
     },
     "execution_count": 40,
     "metadata": {},
     "output_type": "execute_result"
    }
   ],
   "source": [
    "data_offsets = pd.read_csv(\"IMU_calibration_offsets.csv\")\n",
    "data_offsets.head()"
   ]
  },
  {
   "cell_type": "code",
   "execution_count": 41,
   "metadata": {
    "collapsed": false
   },
   "outputs": [
    {
     "data": {
      "text/html": [
       "<div>\n",
       "<table border=\"1\" class=\"dataframe\">\n",
       "  <thead>\n",
       "    <tr style=\"text-align: right;\">\n",
       "      <th></th>\n",
       "      <th>off_AccX</th>\n",
       "      <th>off_AccY</th>\n",
       "      <th>off_AccZ</th>\n",
       "      <th>off_GyX</th>\n",
       "      <th>off_GyY</th>\n",
       "      <th>off_GyZ</th>\n",
       "    </tr>\n",
       "  </thead>\n",
       "  <tbody>\n",
       "    <tr>\n",
       "      <th>count</th>\n",
       "      <td>6.000000</td>\n",
       "      <td>6.000000</td>\n",
       "      <td>6.000000</td>\n",
       "      <td>6.0</td>\n",
       "      <td>6.000000</td>\n",
       "      <td>6.000000</td>\n",
       "    </tr>\n",
       "    <tr>\n",
       "      <th>mean</th>\n",
       "      <td>1312.833333</td>\n",
       "      <td>-2230.000000</td>\n",
       "      <td>2014.166667</td>\n",
       "      <td>61.0</td>\n",
       "      <td>12.666667</td>\n",
       "      <td>5.333333</td>\n",
       "    </tr>\n",
       "    <tr>\n",
       "      <th>std</th>\n",
       "      <td>71.087036</td>\n",
       "      <td>49.351798</td>\n",
       "      <td>3.710346</td>\n",
       "      <td>0.0</td>\n",
       "      <td>0.816497</td>\n",
       "      <td>6.088240</td>\n",
       "    </tr>\n",
       "    <tr>\n",
       "      <th>min</th>\n",
       "      <td>1235.000000</td>\n",
       "      <td>-2310.000000</td>\n",
       "      <td>2009.000000</td>\n",
       "      <td>61.0</td>\n",
       "      <td>12.000000</td>\n",
       "      <td>1.000000</td>\n",
       "    </tr>\n",
       "    <tr>\n",
       "      <th>25%</th>\n",
       "      <td>1252.750000</td>\n",
       "      <td>-2251.250000</td>\n",
       "      <td>2011.750000</td>\n",
       "      <td>61.0</td>\n",
       "      <td>12.000000</td>\n",
       "      <td>2.000000</td>\n",
       "    </tr>\n",
       "    <tr>\n",
       "      <th>50%</th>\n",
       "      <td>1314.000000</td>\n",
       "      <td>-2224.500000</td>\n",
       "      <td>2014.500000</td>\n",
       "      <td>61.0</td>\n",
       "      <td>12.500000</td>\n",
       "      <td>2.500000</td>\n",
       "    </tr>\n",
       "    <tr>\n",
       "      <th>75%</th>\n",
       "      <td>1352.750000</td>\n",
       "      <td>-2197.000000</td>\n",
       "      <td>2016.500000</td>\n",
       "      <td>61.0</td>\n",
       "      <td>13.000000</td>\n",
       "      <td>6.000000</td>\n",
       "    </tr>\n",
       "    <tr>\n",
       "      <th>max</th>\n",
       "      <td>1416.000000</td>\n",
       "      <td>-2173.000000</td>\n",
       "      <td>2019.000000</td>\n",
       "      <td>61.0</td>\n",
       "      <td>14.000000</td>\n",
       "      <td>17.000000</td>\n",
       "    </tr>\n",
       "  </tbody>\n",
       "</table>\n",
       "</div>"
      ],
      "text/plain": [
       "          off_AccX     off_AccY     off_AccZ  off_GyX    off_GyY    off_GyZ\n",
       "count     6.000000     6.000000     6.000000      6.0   6.000000   6.000000\n",
       "mean   1312.833333 -2230.000000  2014.166667     61.0  12.666667   5.333333\n",
       "std      71.087036    49.351798     3.710346      0.0   0.816497   6.088240\n",
       "min    1235.000000 -2310.000000  2009.000000     61.0  12.000000   1.000000\n",
       "25%    1252.750000 -2251.250000  2011.750000     61.0  12.000000   2.000000\n",
       "50%    1314.000000 -2224.500000  2014.500000     61.0  12.500000   2.500000\n",
       "75%    1352.750000 -2197.000000  2016.500000     61.0  13.000000   6.000000\n",
       "max    1416.000000 -2173.000000  2019.000000     61.0  14.000000  17.000000"
      ]
     },
     "execution_count": 41,
     "metadata": {},
     "output_type": "execute_result"
    }
   ],
   "source": [
    "data_offsets.describe()"
   ]
  },
  {
   "cell_type": "code",
   "execution_count": 42,
   "metadata": {
    "collapsed": false
   },
   "outputs": [
    {
     "data": {
      "text/html": [
       "<div>\n",
       "<table border=\"1\" class=\"dataframe\">\n",
       "  <thead>\n",
       "    <tr style=\"text-align: right;\">\n",
       "      <th></th>\n",
       "      <th>off_AccX</th>\n",
       "      <th>off_AccY</th>\n",
       "      <th>off_AccZ</th>\n",
       "      <th>off_GyX</th>\n",
       "      <th>off_GyY</th>\n",
       "      <th>off_GyZ</th>\n",
       "    </tr>\n",
       "  </thead>\n",
       "  <tbody>\n",
       "    <tr>\n",
       "      <th>0</th>\n",
       "      <td>1362</td>\n",
       "      <td>-2218</td>\n",
       "      <td>2014</td>\n",
       "      <td>61</td>\n",
       "      <td>12</td>\n",
       "      <td>2</td>\n",
       "    </tr>\n",
       "    <tr>\n",
       "      <th>1</th>\n",
       "      <td>1235</td>\n",
       "      <td>-2231</td>\n",
       "      <td>2009</td>\n",
       "      <td>61</td>\n",
       "      <td>12</td>\n",
       "      <td>1</td>\n",
       "    </tr>\n",
       "    <tr>\n",
       "      <th>2</th>\n",
       "      <td>1416</td>\n",
       "      <td>-2190</td>\n",
       "      <td>2017</td>\n",
       "      <td>61</td>\n",
       "      <td>12</td>\n",
       "      <td>2</td>\n",
       "    </tr>\n",
       "    <tr>\n",
       "      <th>4</th>\n",
       "      <td>1325</td>\n",
       "      <td>-2310</td>\n",
       "      <td>2015</td>\n",
       "      <td>61</td>\n",
       "      <td>13</td>\n",
       "      <td>7</td>\n",
       "    </tr>\n",
       "    <tr>\n",
       "      <th>5</th>\n",
       "      <td>1303</td>\n",
       "      <td>-2258</td>\n",
       "      <td>2011</td>\n",
       "      <td>61</td>\n",
       "      <td>13</td>\n",
       "      <td>3</td>\n",
       "    </tr>\n",
       "  </tbody>\n",
       "</table>\n",
       "</div>"
      ],
      "text/plain": [
       "   off_AccX  off_AccY  off_AccZ  off_GyX  off_GyY  off_GyZ\n",
       "0      1362     -2218      2014       61       12        2\n",
       "1      1235     -2231      2009       61       12        1\n",
       "2      1416     -2190      2017       61       12        2\n",
       "4      1325     -2310      2015       61       13        7\n",
       "5      1303     -2258      2011       61       13        3"
      ]
     },
     "execution_count": 42,
     "metadata": {},
     "output_type": "execute_result"
    }
   ],
   "source": [
    "# delete the values taht look erraneous\n",
    "data_offsets.drop( [3], axis=0, inplace=True )\n",
    "# set data to df for ease\n",
    "df = data_offsets\n",
    "df.head()"
   ]
  },
  {
   "cell_type": "code",
   "execution_count": 43,
   "metadata": {
    "collapsed": false
   },
   "outputs": [
    {
     "data": {
      "text/html": [
       "<div>\n",
       "<table border=\"1\" class=\"dataframe\">\n",
       "  <thead>\n",
       "    <tr style=\"text-align: right;\">\n",
       "      <th></th>\n",
       "      <th>off_AccX</th>\n",
       "      <th>off_AccY</th>\n",
       "      <th>off_AccZ</th>\n",
       "      <th>off_GyX</th>\n",
       "      <th>off_GyY</th>\n",
       "      <th>off_GyZ</th>\n",
       "    </tr>\n",
       "  </thead>\n",
       "  <tbody>\n",
       "    <tr>\n",
       "      <th>count</th>\n",
       "      <td>5.000000</td>\n",
       "      <td>5.000000</td>\n",
       "      <td>5.000000</td>\n",
       "      <td>5.0</td>\n",
       "      <td>5.000000</td>\n",
       "      <td>5.000000</td>\n",
       "    </tr>\n",
       "    <tr>\n",
       "      <th>mean</th>\n",
       "      <td>1328.200000</td>\n",
       "      <td>-2241.400000</td>\n",
       "      <td>2013.200000</td>\n",
       "      <td>61.0</td>\n",
       "      <td>12.400000</td>\n",
       "      <td>3.000000</td>\n",
       "    </tr>\n",
       "    <tr>\n",
       "      <th>std</th>\n",
       "      <td>67.421807</td>\n",
       "      <td>45.495055</td>\n",
       "      <td>3.193744</td>\n",
       "      <td>0.0</td>\n",
       "      <td>0.547723</td>\n",
       "      <td>2.345208</td>\n",
       "    </tr>\n",
       "    <tr>\n",
       "      <th>min</th>\n",
       "      <td>1235.000000</td>\n",
       "      <td>-2310.000000</td>\n",
       "      <td>2009.000000</td>\n",
       "      <td>61.0</td>\n",
       "      <td>12.000000</td>\n",
       "      <td>1.000000</td>\n",
       "    </tr>\n",
       "    <tr>\n",
       "      <th>25%</th>\n",
       "      <td>1303.000000</td>\n",
       "      <td>-2258.000000</td>\n",
       "      <td>2011.000000</td>\n",
       "      <td>61.0</td>\n",
       "      <td>12.000000</td>\n",
       "      <td>2.000000</td>\n",
       "    </tr>\n",
       "    <tr>\n",
       "      <th>50%</th>\n",
       "      <td>1325.000000</td>\n",
       "      <td>-2231.000000</td>\n",
       "      <td>2014.000000</td>\n",
       "      <td>61.0</td>\n",
       "      <td>12.000000</td>\n",
       "      <td>2.000000</td>\n",
       "    </tr>\n",
       "    <tr>\n",
       "      <th>75%</th>\n",
       "      <td>1362.000000</td>\n",
       "      <td>-2218.000000</td>\n",
       "      <td>2015.000000</td>\n",
       "      <td>61.0</td>\n",
       "      <td>13.000000</td>\n",
       "      <td>3.000000</td>\n",
       "    </tr>\n",
       "    <tr>\n",
       "      <th>max</th>\n",
       "      <td>1416.000000</td>\n",
       "      <td>-2190.000000</td>\n",
       "      <td>2017.000000</td>\n",
       "      <td>61.0</td>\n",
       "      <td>13.000000</td>\n",
       "      <td>7.000000</td>\n",
       "    </tr>\n",
       "  </tbody>\n",
       "</table>\n",
       "</div>"
      ],
      "text/plain": [
       "          off_AccX     off_AccY     off_AccZ  off_GyX    off_GyY   off_GyZ\n",
       "count     5.000000     5.000000     5.000000      5.0   5.000000  5.000000\n",
       "mean   1328.200000 -2241.400000  2013.200000     61.0  12.400000  3.000000\n",
       "std      67.421807    45.495055     3.193744      0.0   0.547723  2.345208\n",
       "min    1235.000000 -2310.000000  2009.000000     61.0  12.000000  1.000000\n",
       "25%    1303.000000 -2258.000000  2011.000000     61.0  12.000000  2.000000\n",
       "50%    1325.000000 -2231.000000  2014.000000     61.0  12.000000  2.000000\n",
       "75%    1362.000000 -2218.000000  2015.000000     61.0  13.000000  3.000000\n",
       "max    1416.000000 -2190.000000  2017.000000     61.0  13.000000  7.000000"
      ]
     },
     "execution_count": 43,
     "metadata": {},
     "output_type": "execute_result"
    }
   ],
   "source": [
    "df.describe()"
   ]
  },
  {
   "cell_type": "code",
   "execution_count": null,
   "metadata": {
    "collapsed": true
   },
   "outputs": [],
   "source": []
  }
 ],
 "metadata": {
  "anaconda-cloud": {},
  "kernelspec": {
   "display_name": "Python [conda root]",
   "language": "python",
   "name": "conda-root-py"
  },
  "language_info": {
   "codemirror_mode": {
    "name": "ipython",
    "version": 3
   },
   "file_extension": ".py",
   "mimetype": "text/x-python",
   "name": "python",
   "nbconvert_exporter": "python",
   "pygments_lexer": "ipython3",
   "version": "3.5.2"
  },
  "nbpresent": {
   "slides": {},
   "themes": {
    "default": "1827434a-3f32-4c84-979a-1903d7b7a5a3",
    "theme": {
     "1827434a-3f32-4c84-979a-1903d7b7a5a3": {
      "id": "1827434a-3f32-4c84-979a-1903d7b7a5a3",
      "palette": {
       "19cc588f-0593-49c9-9f4b-e4d7cc113b1c": {
        "id": "19cc588f-0593-49c9-9f4b-e4d7cc113b1c",
        "rgb": [
         252,
         252,
         252
        ]
       },
       "31af15d2-7e15-44c5-ab5e-e04b16a89eff": {
        "id": "31af15d2-7e15-44c5-ab5e-e04b16a89eff",
        "rgb": [
         68,
         68,
         68
        ]
       },
       "50f92c45-a630-455b-aec3-788680ec7410": {
        "id": "50f92c45-a630-455b-aec3-788680ec7410",
        "rgb": [
         155,
         177,
         192
        ]
       },
       "c5cc3653-2ee1-402a-aba2-7caae1da4f6c": {
        "id": "c5cc3653-2ee1-402a-aba2-7caae1da4f6c",
        "rgb": [
         43,
         126,
         184
        ]
       },
       "efa7f048-9acb-414c-8b04-a26811511a21": {
        "id": "efa7f048-9acb-414c-8b04-a26811511a21",
        "rgb": [
         25.118061674008803,
         73.60176211453744,
         107.4819383259912
        ]
       }
      },
      "rules": {
       "blockquote": {
        "color": "50f92c45-a630-455b-aec3-788680ec7410"
       },
       "code": {
        "font-family": "Anonymous Pro"
       },
       "h1": {
        "color": "c5cc3653-2ee1-402a-aba2-7caae1da4f6c",
        "font-family": "Lato",
        "font-size": 8
       },
       "h2": {
        "color": "c5cc3653-2ee1-402a-aba2-7caae1da4f6c",
        "font-family": "Lato",
        "font-size": 6
       },
       "h3": {
        "color": "50f92c45-a630-455b-aec3-788680ec7410",
        "font-family": "Lato",
        "font-size": 5.5
       },
       "h4": {
        "color": "c5cc3653-2ee1-402a-aba2-7caae1da4f6c",
        "font-family": "Lato",
        "font-size": 5
       },
       "h5": {
        "font-family": "Lato"
       },
       "h6": {
        "font-family": "Lato"
       },
       "h7": {
        "font-family": "Lato"
       },
       "pre": {
        "font-family": "Anonymous Pro",
        "font-size": 4
       }
      },
      "text-base": {
       "font-family": "Merriweather",
       "font-size": 4
      }
     },
     "40c7403a-7964-42ae-bd3a-6cff77d5c26f": {
      "backgrounds": {
       "dc7afa04-bf90-40b1-82a5-726e3cff5267": {
        "background-color": "31af15d2-7e15-44c5-ab5e-e04b16a89eff",
        "id": "dc7afa04-bf90-40b1-82a5-726e3cff5267"
       }
      },
      "id": "40c7403a-7964-42ae-bd3a-6cff77d5c26f",
      "palette": {
       "19cc588f-0593-49c9-9f4b-e4d7cc113b1c": {
        "id": "19cc588f-0593-49c9-9f4b-e4d7cc113b1c",
        "rgb": [
         252,
         252,
         252
        ]
       },
       "31af15d2-7e15-44c5-ab5e-e04b16a89eff": {
        "id": "31af15d2-7e15-44c5-ab5e-e04b16a89eff",
        "rgb": [
         68,
         68,
         68
        ]
       },
       "50f92c45-a630-455b-aec3-788680ec7410": {
        "id": "50f92c45-a630-455b-aec3-788680ec7410",
        "rgb": [
         197,
         226,
         245
        ]
       },
       "c5cc3653-2ee1-402a-aba2-7caae1da4f6c": {
        "id": "c5cc3653-2ee1-402a-aba2-7caae1da4f6c",
        "rgb": [
         43,
         126,
         184
        ]
       },
       "efa7f048-9acb-414c-8b04-a26811511a21": {
        "id": "efa7f048-9acb-414c-8b04-a26811511a21",
        "rgb": [
         25.118061674008803,
         73.60176211453744,
         107.4819383259912
        ]
       }
      },
      "rules": {
       "a": {
        "color": "19cc588f-0593-49c9-9f4b-e4d7cc113b1c"
       },
       "blockquote": {
        "color": "50f92c45-a630-455b-aec3-788680ec7410",
        "font-size": 3
       },
       "code": {
        "font-family": "Anonymous Pro"
       },
       "h1": {
        "color": "19cc588f-0593-49c9-9f4b-e4d7cc113b1c",
        "font-family": "Merriweather",
        "font-size": 8
       },
       "h2": {
        "color": "19cc588f-0593-49c9-9f4b-e4d7cc113b1c",
        "font-family": "Merriweather",
        "font-size": 6
       },
       "h3": {
        "color": "50f92c45-a630-455b-aec3-788680ec7410",
        "font-family": "Lato",
        "font-size": 5.5
       },
       "h4": {
        "color": "c5cc3653-2ee1-402a-aba2-7caae1da4f6c",
        "font-family": "Lato",
        "font-size": 5
       },
       "h5": {
        "font-family": "Lato"
       },
       "h6": {
        "font-family": "Lato"
       },
       "h7": {
        "font-family": "Lato"
       },
       "li": {
        "color": "50f92c45-a630-455b-aec3-788680ec7410",
        "font-size": 3.25
       },
       "pre": {
        "font-family": "Anonymous Pro",
        "font-size": 4
       }
      },
      "text-base": {
       "color": "19cc588f-0593-49c9-9f4b-e4d7cc113b1c",
       "font-family": "Lato",
       "font-size": 4
      }
     }
    }
   }
  }
 },
 "nbformat": 4,
 "nbformat_minor": 1
}
